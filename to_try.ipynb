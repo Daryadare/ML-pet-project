{
 "cells": [
  {
   "cell_type": "code",
   "execution_count": 1,
   "id": "65176139",
   "metadata": {},
   "outputs": [
    {
     "name": "stdout",
     "output_type": "stream",
     "text": [
      "Collecting gensim\n",
      "  Downloading gensim-4.2.0-cp39-cp39-win_amd64.whl (23.9 MB)\n",
      "     ---------------------------------------- 23.9/23.9 MB 6.0 MB/s eta 0:00:00\n",
      "Collecting Cython==0.29.28\n",
      "  Downloading Cython-0.29.28-py2.py3-none-any.whl (983 kB)\n",
      "     -------------------------------------- 983.8/983.8 kB 4.4 MB/s eta 0:00:00\n",
      "Requirement already satisfied: smart-open>=1.8.1 in c:\\users\\user\\anaconda3\\lib\\site-packages (from gensim) (5.2.1)\n",
      "Requirement already satisfied: numpy>=1.17.0 in c:\\users\\user\\anaconda3\\lib\\site-packages (from gensim) (1.20.3)\n",
      "Requirement already satisfied: scipy>=0.18.1 in c:\\users\\user\\anaconda3\\lib\\site-packages (from gensim) (1.7.1)\n",
      "Installing collected packages: Cython, gensim\n",
      "  Attempting uninstall: Cython\n",
      "    Found existing installation: Cython 0.29.24\n",
      "    Uninstalling Cython-0.29.24:\n",
      "      Successfully uninstalled Cython-0.29.24\n",
      "Successfully installed Cython-0.29.28 gensim-4.2.0\n"
     ]
    }
   ],
   "source": [
    "! pip install gensim\n"
   ]
  },
  {
   "cell_type": "code",
   "execution_count": 6,
   "id": "69780e3a",
   "metadata": {},
   "outputs": [
    {
     "name": "stdout",
     "output_type": "stream",
     "text": [
      "Collecting ufal.udpipe\n",
      "  Downloading ufal.udpipe-1.2.0.3.tar.gz (304 kB)\n",
      "     -------------------------------------- 304.1/304.1 kB 1.1 MB/s eta 0:00:00\n",
      "  Preparing metadata (setup.py): started\n",
      "  Preparing metadata (setup.py): finished with status 'done'\n",
      "Building wheels for collected packages: ufal.udpipe\n",
      "  Building wheel for ufal.udpipe (setup.py): started\n",
      "  Building wheel for ufal.udpipe (setup.py): finished with status 'done'\n",
      "  Created wheel for ufal.udpipe: filename=ufal.udpipe-1.2.0.3-cp39-cp39-win_amd64.whl size=641075 sha256=adfe463f55b86586fa8efcab0523d159cc2bce011d774650405580dadf4afa6d\n",
      "  Stored in directory: c:\\users\\user\\appdata\\local\\pip\\cache\\wheels\\ee\\8a\\a0\\793722955e9322bb93d5c91b6b3e2a537d926b98d2a2bdcafb\n",
      "Successfully built ufal.udpipe\n",
      "Installing collected packages: ufal.udpipe\n",
      "Successfully installed ufal.udpipe-1.2.0.3\n"
     ]
    }
   ],
   "source": [
    "! pip install ufal.udpipe"
   ]
  },
  {
   "cell_type": "code",
   "execution_count": 11,
   "id": "5064427a",
   "metadata": {},
   "outputs": [
    {
     "name": "stdout",
     "output_type": "stream",
     "text": [
      "Collecting wget\n",
      "  Downloading wget-3.2.zip (10 kB)\n",
      "  Preparing metadata (setup.py): started\n",
      "  Preparing metadata (setup.py): finished with status 'done'\n",
      "Building wheels for collected packages: wget\n",
      "  Building wheel for wget (setup.py): started\n",
      "  Building wheel for wget (setup.py): finished with status 'done'\n",
      "  Created wheel for wget: filename=wget-3.2-py3-none-any.whl size=9657 sha256=23012d5549300b7d048ba8f627d7edd7ae957f0c20d6bb59005e9d960ecd22a2\n",
      "  Stored in directory: c:\\users\\user\\appdata\\local\\pip\\cache\\wheels\\04\\5f\\3e\\46cc37c5d698415694d83f607f833f83f0149e49b3af9d0f38\n",
      "Successfully built wget\n",
      "Installing collected packages: wget\n",
      "Successfully installed wget-3.2\n"
     ]
    }
   ],
   "source": [
    "! pip install wget"
   ]
  },
  {
   "cell_type": "code",
   "execution_count": 1,
   "id": "1dd46ffc",
   "metadata": {},
   "outputs": [
    {
     "name": "stdout",
     "output_type": "stream",
     "text": [
      "Collecting xarray\n",
      "  Downloading xarray-2022.10.0-py3-none-any.whl (947 kB)\n",
      "     -------------------------------------- 947.6/947.6 kB 6.0 MB/s eta 0:00:00\n",
      "Requirement already satisfied: pandas>=1.3 in c:\\users\\user\\anaconda3\\lib\\site-packages (from xarray) (1.3.4)\n",
      "Requirement already satisfied: packaging>=21.0 in c:\\users\\user\\anaconda3\\lib\\site-packages (from xarray) (21.0)\n",
      "Requirement already satisfied: numpy>=1.20 in c:\\users\\user\\anaconda3\\lib\\site-packages (from xarray) (1.20.3)\n",
      "Requirement already satisfied: pyparsing>=2.0.2 in c:\\users\\user\\anaconda3\\lib\\site-packages (from packaging>=21.0->xarray) (3.0.4)\n",
      "Requirement already satisfied: python-dateutil>=2.7.3 in c:\\users\\user\\anaconda3\\lib\\site-packages (from pandas>=1.3->xarray) (2.8.2)\n",
      "Requirement already satisfied: pytz>=2017.3 in c:\\users\\user\\anaconda3\\lib\\site-packages (from pandas>=1.3->xarray) (2021.3)\n",
      "Requirement already satisfied: six>=1.5 in c:\\users\\user\\anaconda3\\lib\\site-packages (from python-dateutil>=2.7.3->pandas>=1.3->xarray) (1.16.0)\n",
      "Installing collected packages: xarray\n",
      "Successfully installed xarray-2022.10.0\n",
      "\n",
      "[notice] A new release of pip available: 22.1.2 -> 22.3\n",
      "[notice] To update, run: python.exe -m pip install --upgrade pip\n"
     ]
    }
   ],
   "source": [
    "! pip install xarray"
   ]
  },
  {
   "cell_type": "code",
   "execution_count": 2,
   "id": "c1de8200",
   "metadata": {},
   "outputs": [
    {
     "name": "stdout",
     "output_type": "stream",
     "text": [
      "Collecting pyarrow\n",
      "  Downloading pyarrow-10.0.0-cp39-cp39-win_amd64.whl (20.0 MB)\n",
      "     ---------------------------------------- 20.0/20.0 MB 2.2 MB/s eta 0:00:00\n",
      "Requirement already satisfied: numpy>=1.16.6 in c:\\users\\user\\anaconda3\\lib\\site-packages (from pyarrow) (1.20.3)\n",
      "Installing collected packages: pyarrow\n",
      "Successfully installed pyarrow-10.0.0\n",
      "\n",
      "[notice] A new release of pip available: 22.1.2 -> 22.3\n",
      "[notice] To update, run: python.exe -m pip install --upgrade pip\n"
     ]
    }
   ],
   "source": [
    "! pip install pyarrow"
   ]
  },
  {
   "cell_type": "code",
   "execution_count": 1,
   "id": "4badba80",
   "metadata": {},
   "outputs": [],
   "source": [
    "import gensim, logging\n",
    "import wget\n",
    "from gensim.models import KeyedVectors\n",
    "from gensim import models\n",
    "\n",
    "# from pymystem3 import Mystem\n",
    "# import requests\n",
    "# import re"
   ]
  },
  {
   "cell_type": "code",
   "execution_count": 2,
   "id": "1e4f8d67",
   "metadata": {},
   "outputs": [],
   "source": [
    "logging.basicConfig(format='%(asctime)s : %(levelname)s : %(message)s', level=logging.INFO)"
   ]
  },
  {
   "cell_type": "markdown",
   "id": "da124e14",
   "metadata": {},
   "source": [
    "## Unversal POS"
   ]
  },
  {
   "cell_type": "code",
   "execution_count": 16,
   "id": "b417800b",
   "metadata": {},
   "outputs": [
    {
     "name": "stdout",
     "output_type": "stream",
     "text": [
      "100% [..............................................................................] 25649 / 25649"
     ]
    }
   ],
   "source": [
    "# udpipe_url = 'https://rusvectores.org/static/models/udpipe_syntagrus.model'\n",
    "# text_url = 'https://rusvectores.org/static/henry_sobolya.txt'\n",
    "\n",
    "# modelfile = wget.download(udpipe_url)\n",
    "# textfile = wget.download(text_url)"
   ]
  },
  {
   "cell_type": "code",
   "execution_count": 4,
   "id": "f3269bd7",
   "metadata": {},
   "outputs": [],
   "source": [
    "model_path = 'C:/Users/User/Desktop/dtml/practice/model/model.bin'"
   ]
  },
  {
   "cell_type": "code",
   "execution_count": 5,
   "id": "e2aed9dd",
   "metadata": {
    "scrolled": true
   },
   "outputs": [],
   "source": [
    "model = models.KeyedVectors.load_word2vec_format(model_path, binary=True)"
   ]
  },
  {
   "cell_type": "code",
   "execution_count": 7,
   "id": "48c7782a",
   "metadata": {},
   "outputs": [],
   "source": [
    "words = ['день_NOUN', 'идти_', 'человек_NOUN', 'семантика_NOUN', 'студент_NOUN', 'студенческий_ADJ']"
   ]
  },
  {
   "cell_type": "code",
   "execution_count": 2,
   "id": "fa34594a",
   "metadata": {},
   "outputs": [],
   "source": [
    "words1 = ['иметь_VERB',\n",
    " 'торговый_ADJ',\n",
    " 'точка_NOUN',\n",
    " 'окончание_NOUN',\n",
    " 'работа_NOUN',\n",
    " 'магазин_NOUN']"
   ]
  },
  {
   "cell_type": "code",
   "execution_count": 6,
   "id": "dc5d63bf",
   "metadata": {
    "scrolled": false
   },
   "outputs": [
    {
     "name": "stdout",
     "output_type": "stream",
     "text": [
      "иметь_VERB\n",
      "иметься_VERB 0.6652223467826843\n",
      "иметь_ADJ 0.5886251330375671\n",
      "приобретать_VERB 0.5881446003913879\n",
      "\n",
      "\n",
      "торговый_ADJ\n",
      "торговля_NOUN 0.6641952991485596\n",
      "коммерческий_ADJ 0.5721049904823303\n",
      "торгово-промышленный_ADJ 0.5662217736244202\n",
      "\n",
      "\n",
      "точка_NOUN\n",
      "сточка_NOUN 0.6928622722625732\n",
      "точкой_NOUN 0.6103993654251099\n",
      "бинокулярный_ADJ 0.5877295732498169\n",
      "\n",
      "\n",
      "окончание_NOUN\n",
      "окончить_VERB 0.6403590440750122\n",
      "оканчивать_VERB 0.588775098323822\n",
      "завершение_NOUN 0.5702000260353088\n",
      "\n",
      "\n",
      "работа_NOUN\n",
      "работа_PROPN 0.6275458931922913\n",
      "деятельность_NOUN 0.5942718982696533\n",
      "занятие_NOUN 0.5689679980278015\n",
      "\n",
      "\n",
      "магазин_NOUN\n",
      "магазинчик_NOUN 0.7629798054695129\n",
      "универмаг_NOUN 0.7585097551345825\n",
      "супермаркет_NOUN 0.7232882380485535\n",
      "\n",
      "\n"
     ]
    }
   ],
   "source": [
    "for word in words1:\n",
    "    if word in model:\n",
    "        print(word)\n",
    "        # выдаем 10 ближайших соседей слова:\n",
    "        for i in model.most_similar(positive=[word], topn=3):\n",
    "            # слово + коэффициент косинусной близости\n",
    "            print(i[0], i[1])\n",
    "        print('\\n')\n",
    "    else:\n",
    "        print(word + ' is not present in the model')"
   ]
  },
  {
   "cell_type": "code",
   "execution_count": 9,
   "id": "e66eefff",
   "metadata": {},
   "outputs": [
    {
     "name": "stdout",
     "output_type": "stream",
     "text": [
      "0.22025342\n"
     ]
    }
   ],
   "source": [
    "# косинусная близость / cosine similarity\n",
    "print(model.similarity('человек_NOUN', 'обезьяна_NOUN'))"
   ]
  },
  {
   "cell_type": "code",
   "execution_count": 10,
   "id": "2d5e8e69",
   "metadata": {},
   "outputs": [
    {
     "name": "stdout",
     "output_type": "stream",
     "text": [
      "картофель_NOUN\n"
     ]
    }
   ],
   "source": [
    "# find the extra\n",
    "print(model.doesnt_match('яблоко_NOUN груша_NOUN виноград_NOUN банан_NOUN лимон_NOUN картофель_NOUN'.split()))"
   ]
  },
  {
   "cell_type": "code",
   "execution_count": 11,
   "id": "87cba536",
   "metadata": {},
   "outputs": [
    {
     "name": "stdout",
     "output_type": "stream",
     "text": [
      "гамбургер_NOUN\n"
     ]
    }
   ],
   "source": [
    "# proportion\n",
    "print(model.most_similar(positive=['пицца_NOUN', 'россия_NOUN'], negative=['италия_NOUN'])[0][0])"
   ]
  },
  {
   "cell_type": "code",
   "execution_count": 12,
   "id": "2cf68d3e",
   "metadata": {},
   "outputs": [
    {
     "data": {
      "text/plain": [
       "[('остатки_NOUN', 0.5222429633140564),\n",
       " ('выпаривание_NOUN', 0.4749513268470764),\n",
       " ('фильтрат_NOUN', 0.4298880100250244),\n",
       " ('отгонка_NOUN', 0.42572692036628723),\n",
       " ('досуха_NOUN', 0.4197492301464081),\n",
       " ('поташ_NOUN', 0.4157828390598297),\n",
       " ('целиком_ADV', 0.414725124835968),\n",
       " ('каль_NOUN', 0.4119011461734772),\n",
       " ('выпарять_VERB', 0.40949174761772156),\n",
       " ('бутилен_NOUN', 0.40782880783081055)]"
      ]
     },
     "execution_count": 12,
     "metadata": {},
     "output_type": "execute_result"
    }
   ],
   "source": [
    "model.most_similar(positive=['остаток_NOUN'], topn=10)"
   ]
  },
  {
   "cell_type": "markdown",
   "id": "370c7072",
   "metadata": {},
   "source": [
    "## Mystem "
   ]
  },
  {
   "cell_type": "code",
   "execution_count": 38,
   "id": "cced92b4",
   "metadata": {},
   "outputs": [
    {
     "name": "stdout",
     "output_type": "stream",
     "text": [
      "{'A': 'ADJ', 'ADV': 'ADV', 'ADVPRO': 'ADV', 'ANUM': 'ADJ', 'APRO': 'DET', 'COM': 'ADJ', 'CONJ': 'SCONJ', 'INTJ': 'INTJ', 'NONLEX': 'X', 'NUM': 'NUM', 'PART': 'PART', 'PR': 'ADP', 'S': 'NOUN', 'SPRO': 'PRON', 'UNKN': 'X', 'V': 'VERB'}\n"
     ]
    }
   ],
   "source": [
    "url = 'https://raw.githubusercontent.com/akutuzov/universal-pos-tags/4653e8a9154e93fe2f417c7fdb7a357b7d6ce333/ru-rnc.map'\n",
    "\n",
    "mapping = {}\n",
    "r = requests.get(url, stream=True)\n",
    "for pair in r.text.split('\\n'):\n",
    "    pair = re.sub('\\s+', ' ', pair, flags=re.U).split(' ')\n",
    "    if len(pair) > 1:\n",
    "        mapping[pair[0]] = pair[1]\n",
    "\n",
    "print(mapping)"
   ]
  },
  {
   "cell_type": "code",
   "execution_count": 39,
   "id": "e61c002d",
   "metadata": {},
   "outputs": [],
   "source": [
    "def tag_mystem(text='Текст нужно передать функции в виде строки!'):  \n",
    "    m = Mystem()\n",
    "    processed = m.analyze(text)\n",
    "    tagged = []\n",
    "    for w in processed:\n",
    "        try:\n",
    "            lemma = w[\"analysis\"][0][\"lex\"].lower().strip()\n",
    "            pos = w[\"analysis\"][0][\"gr\"].split(',')[0]\n",
    "            pos = pos.split('=')[0].strip()\n",
    "            if pos in mapping:\n",
    "                tagged.append(lemma + '_' + mapping[pos]) # конвертируем тэги\n",
    "            else:\n",
    "                tagged.append(lemma + '_X') # если попадется тэг, которого нет в маппинге\n",
    "        except KeyError:\n",
    "            continue # пропуск знаков препинания\n",
    "    return tagged"
   ]
  },
  {
   "cell_type": "code",
   "execution_count": 40,
   "id": "108874c8",
   "metadata": {},
   "outputs": [
    {
     "name": "stdout",
     "output_type": "stream",
     "text": [
      "['текст_NOUN', 'нужно_ADV', 'передавать_VERB', 'функция_NOUN', 'в_ADP', 'вид_NOUN', 'строка_NOUN']\n"
     ]
    }
   ],
   "source": [
    "processed_mystem = tag_mystem()\n",
    "print(processed_mystem[:10])"
   ]
  },
  {
   "cell_type": "code",
   "execution_count": null,
   "id": "5a8f792b",
   "metadata": {},
   "outputs": [],
   "source": []
  }
 ],
 "metadata": {
  "kernelspec": {
   "display_name": "Python 3 (ipykernel)",
   "language": "python",
   "name": "python3"
  },
  "language_info": {
   "codemirror_mode": {
    "name": "ipython",
    "version": 3
   },
   "file_extension": ".py",
   "mimetype": "text/x-python",
   "name": "python",
   "nbconvert_exporter": "python",
   "pygments_lexer": "ipython3",
   "version": "3.9.7"
  }
 },
 "nbformat": 4,
 "nbformat_minor": 5
}
